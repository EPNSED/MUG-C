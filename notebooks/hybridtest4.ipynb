{
 "cells": [
  {
   "cell_type": "code",
   "execution_count": null,
   "metadata": {},
   "outputs": [],
   "source": [
    "!pip install biopython\n",
    "!pip install pyvis\n",
    "!pip install nglview\n",
    "!pip install pytraj\n",
    "!jupyter-nbextension enable nglview --py --sys-prefix"
   ]
  },
  {
   "cell_type": "code",
   "execution_count": null,
   "metadata": {},
   "outputs": [],
   "source": [
    "### Import **Libraries**\n",
    "\n",
    "import os\n",
    "import os.path\n",
    "import numpy as np\n",
    "import subprocess\n",
    "import math\n",
    "import time\n",
    "import pdb\n",
    "import shutil\n",
    "import networkx as nx\n",
    "import pytraj as pt\n",
    "import nglview as nv\n",
    "from pyvis.network import Network\n",
    "import matplotlib.pyplot as plt\n",
    "import sys\n",
    "# sys.setrecursionlimit(100000)"
   ]
  },
  {
   "cell_type": "code",
   "execution_count": null,
   "metadata": {},
   "outputs": [],
   "source": [
    "from collections import Counter\n",
    "from Bio.PDB import MMCIFParser, PDBParser, Selection, NeighborSearch\n",
    "\n",
    "def pdb_model(structure_file, water=False):\n",
    "    \"\"\"Return a biopython [1] model entity from a structure file.\n",
    "\n",
    "    Parameters\n",
    "    ----------\n",
    "    structure_file: string\n",
    "        Path to structure file\n",
    "    water: boolean (default=False)\n",
    "        True to take into account waker molecules in the structure, False\n",
    "        otherwise.\n",
    "\n",
    "    Notes\n",
    "    -----\n",
    "    1. http://biopython.org/wiki/Biopython\n",
    "\n",
    "    \"\"\"\n",
    "    accepted_formats = ['cif', 'pdb', 'ent']\n",
    "    parsers = [MMCIFParser, PDBParser, PDBParser]\n",
    "    protein_name, file_format = structure_file.rsplit('.', 1)\n",
    "\n",
    "    try:\n",
    "        parser = parsers[accepted_formats.index(file_format)]\n",
    "        parser = parser(QUIET=True)\n",
    "    except ValueError:\n",
    "        raise Exception(\"Accepted structure files are: {}\".format(\n",
    "            accepted_formats))\n",
    "\n",
    "    structure = parser.get_structure(protein_name, structure_file)\n",
    "    model = structure[0]\n",
    "\n",
    "    if not water:\n",
    "        for chain in model.get_chains():\n",
    "            for residue in list(chain):\n",
    "                hetero_flag = residue.id[0].strip()\n",
    "                # Empty strings evaluate to False.  Therefore hetero_flag\n",
    "                # returns False if the residue is not a water molecule.\n",
    "                if hetero_flag:\n",
    "                    chain.detach_child(residue.id)\n",
    "            if not list(chain):\n",
    "                model.detach_child(chain.id)\n",
    "\n",
    "    return model\n",
    "\n",
    "\n",
    "def label_residue(residue):\n",
    "    \"\"\" Return a string of the label of the biopython [1] residue object.\n",
    "\n",
    "    The label of the residue is the following:\n",
    "        Chain + Position\n",
    "\n",
    "    Parameters\n",
    "    ----------\n",
    "    residue: Bio.PDB.Residue.Residue\n",
    "        The residue to be labeled.\n",
    "\n",
    "    Notes\n",
    "    -----\n",
    "    1. http://biopython.org/wiki/Biopython\n",
    "\n",
    "    \"\"\"\n",
    "    position = str(residue.id[1])\n",
    "    chain = residue.parent.id\n",
    "\n",
    "    return chain + ' ' + position #added space deliminater for split function."
   ]
  },
  {
   "cell_type": "markdown",
   "metadata": {},
   "source": [
    "## Residue adjecmatrixtest"
   ]
  },
  {
   "cell_type": "code",
   "execution_count": null,
   "metadata": {},
   "outputs": [],
   "source": [
    "#Biopython used to create adjecency dictionary\n",
    "def residue_adjacency_CO_test(model, cutoff=5, weight=True):\n",
    "    \"\"\"Return residue adjacency dictionary defined by cutoff distance.\n",
    "\n",
    "    Parameters\n",
    "    ----------\n",
    "    model: Bio.PDB.Model\n",
    "        Model created with the atomic coordinates of the protein file.\n",
    "\n",
    "    cutoff: int or float\n",
    "        Distance cutoff defining links between atoms.  Two atoms are adjacent\n",
    "        if their distance is less than the given cutoff.\n",
    "\n",
    "    See Also\n",
    "    --------`````````````\n",
    "    pdb_model\n",
    "\n",
    "    \"\"\"\n",
    "    #Use only the Atoms specified in paper\n",
    "    atom_list = Selection.unfold_entities(model, 'A')\n",
    "    atoms = [atom for atom in atom_list if 'O' in atom.name] #  or 'C' in atom.name\n",
    "    #Only looking at oxygen for cliques at the momement, for maximum clique finidng in the residue filteration setup\n",
    "#     print(atoms)\n",
    "\n",
    "    neighbor_search = NeighborSearch(atoms)\n",
    "    atomic_adjacency = {}\n",
    "\n",
    "    for atom in atoms:\n",
    "        _res = label_residue(atom.get_parent())\n",
    "        adjacent_atoms = []\n",
    "        for adj_atom in neighbor_search.search(atom.coord, cutoff):\n",
    "            _adj_res = label_residue(adj_atom.parent)\n",
    "            # Adjacent atoms must be in different residues\n",
    "            if _adj_res != _res:\n",
    "                adjacent_atoms.append(adj_atom)\n",
    "        atomic_adjacency[atom] = adjacent_atoms\n",
    "\n",
    "    adjacency = {}\n",
    "\n",
    "    # Create residue adjacency dictionary with string format, see\n",
    "    # label_residue.\n",
    "    for atom, neighbors in atomic_adjacency.items():\n",
    "        residue = label_residue(atom.get_parent())\n",
    "        adjacency.setdefault(residue, [])\n",
    "\n",
    "        # Only different residues are connected by an edge (No loops).\n",
    "        not_in_residue = []\n",
    "        for neighbor in neighbors:\n",
    "            neighbor_parent = label_residue(neighbor.get_parent())\n",
    "            if neighbor_parent is not residue:\n",
    "                not_in_residue.append(neighbor_parent)\n",
    "\n",
    "        adjacency[residue].extend(not_in_residue)\n",
    "\n",
    "    if not weight:\n",
    "\n",
    "        return adjacency\n",
    "\n",
    "    # Make new dictionary mapping each residue to its neighbors taking\n",
    "    # into account the weight.\n",
    "    weighted_adjacency = {}\n",
    "    for residue in adjacency:\n",
    "        counter = Counter(adjacency[residue])\n",
    "        weighted_adjacency[residue] = {\n",
    "            neighbor: {'weight': counter[neighbor]}\n",
    "            for neighbor in counter}\n",
    "\n",
    "    return weighted_adjacency"
   ]
  },
  {
   "cell_type": "code",
   "execution_count": null,
   "metadata": {},
   "outputs": [],
   "source": [
    "\n",
    "def topo_network(model, cutoff=4, weight=True):\n",
    "    \"\"\"Return the interaction network of a protein structure.\n",
    "\n",
    "    The interaction network is defined by a distance cutoff.\n",
    "\n",
    "    Parameters\n",
    "    ----------\n",
    "    model: Bio.PDB.model\n",
    "        The protein structure.\n",
    "    cutoff: float\n",
    "        The distance cutoff defining an interaction between two nodes.\n",
    "    weight: boolean\n",
    "        True if atomic interactions are to be considered.\n",
    "    \"\"\"\n",
    "\n",
    "    adjacency_dictionary = residue_adjacency_CO_test(model, cutoff=cutoff,\n",
    "                                            weight=weight)\n",
    "\n",
    "    return nx.Graph(adjacency_dictionary)\n"
   ]
  },
  {
   "cell_type": "code",
   "execution_count": null,
   "metadata": {},
   "outputs": [],
   "source": [
    "class Pmolecule(object):\n",
    "    \"\"\"Create a Pmolecule object.\n",
    "\n",
    "    The Pmolecule calls a number of methods for the analysis of protein\n",
    "    structure. This includes the construction of the interaction network of the\n",
    "    protein.\n",
    "\n",
    "    Parameters\n",
    "    ----------\n",
    "    structure_file = str\n",
    "        The path to the structure file of the targeted protein. Three\n",
    "        structure-file formats are accepted: `pdb', `cif', and `ent'.\n",
    "    water: boolean, default is False\n",
    "        If false, water molecules are ignored.\n",
    "\n",
    "    Attributes\n",
    "    ----------\n",
    "    model: Bio.PDB.model\n",
    "        The structural model of the structure. See www.biopython.org.\n",
    "    path_to_file: str\n",
    "        The path to the structural file used to instantiate the class.\n",
    "    \"\"\"\n",
    "\n",
    "    def __init__(self, structure_file, water=False):\n",
    "        self.model = pdb_model(structure_file, water=water)\n",
    "        self.path_to_file = structure_file\n",
    "\n",
    "    def get_network(self, cutoff=5, weight=True):\n",
    "        \"\"\"Return the interaction network of a protein structure.\n",
    "\n",
    "        The interaction network is defined by a distance cutoff.\n",
    "\n",
    "        Parameters\n",
    "        ----------\n",
    "        model: Bio.PDB.model\n",
    "            The protein structure.\n",
    "        cutoff: float\n",
    "            The distance cutoff defining an interaction between two nodes.\n",
    "        weight: boolean\n",
    "            True if atomic interactions are to be considered.\n",
    "        \"\"\"\n",
    "\n",
    "        return topo_network(self.model, cutoff=cutoff, weight=weight)\n",
    "\n",
    "    def get_pdbmodel(self):\n",
    "        return self.model"
   ]
  },
  {
   "cell_type": "code",
   "execution_count": null,
   "metadata": {},
   "outputs": [],
   "source": [
    "########################################################################################################"
   ]
  },
  {
   "cell_type": "code",
   "execution_count": null,
   "metadata": {},
   "outputs": [],
   "source": [
    "class FileOperation(object):\n",
    "    \"\"\" generated source for class FileOperation \"\"\"\n",
    "\n",
    "    @classmethod\n",
    "    def getEntriesAsList(cls, fileName):\n",
    "        \"\"\" generated source for method getEntriesAsList \"\"\"\n",
    "        #  Return list entries. \n",
    "        #  An element of that list is one line of the file fileName.\n",
    "        fil = open(fileName, \"r\")\n",
    "        entries = fil.read().split('\\n')\n",
    "        fil.close()\n",
    "        return entries\n",
    "\n",
    "    @classmethod\n",
    "    def saveResults(cls, entryNames, fileName, option):\n",
    "        \"\"\" generated source for method saveResults \"\"\"\n",
    "        #  Write list entryNames in file fileName.\n",
    "        #  An element in entryNames is one line in fileName.\n",
    "        if option == \"w\":\n",
    "            try:\n",
    "                with open(fileName, \"w\") as f:\n",
    "                    i = 0\n",
    "                    while i < len(entryNames):\n",
    "                        f.write(str(entryNames[i]) + \"\\n\")\n",
    "                        i += 1\n",
    "            except Exception as e:\n",
    "                pass"
   ]
  },
  {
   "cell_type": "code",
   "execution_count": null,
   "metadata": {},
   "outputs": [],
   "source": [
    "class ParsePDB(object):\n",
    "    \"\"\" generated source for class ParsePDB \"\"\"\n",
    "    @classmethod\n",
    "    def getLines(cls, PDBFile, field, subfield, atom):\n",
    "        \"\"\" generated source for method getLines \"\"\"\n",
    "        #  Return a list, the element of which is a line in the file with name PDBFile\n",
    "        #  that contains the specified atom in a specified field.\n",
    "        returnList = []\n",
    "        fileList = []\n",
    "        line = \"\"\n",
    "        i = 0\n",
    "        if atom != \"allatom\":\n",
    "            if (0 == len(atom)) or (len(atom) >= 4):\n",
    "                print(\"error! in getLines\")\n",
    "        fileList = FileOperation.getEntriesAsList(PDBFile)\n",
    "        while i < len(fileList):\n",
    "            line = str(fileList[i])\n",
    "            if field == \"HETATM\" and subfield != \"HOH\" and line.startswith(field) and line[17:20].strip() in atom:\n",
    "                returnList.append(line)\n",
    "            if field == \"ATOM\" and subfield == \"Res\" and line.startswith(field) and line[13:17].startswith(atom):\n",
    "                returnList.append(line)\n",
    "            if field == \"HETATM\" and subfield == \"HOH\" and line.startswith(field) and line[12: 14].startswith(atom) and line[17: 20].startswith(subfield):\n",
    "                returnList.append(line)\n",
    "            if subfield == \"HET\":\n",
    "                if field == \"HETATM\" and subfield != \"HOH\" and line.startswith(field) and line[12:14].startswith(atom) and (\"HOH\" in line[17: 20]) == False:\n",
    "                    returnList.append(line)\n",
    "            if field == \"ATOM\" and subfield == \"ResNoWater\" and (line.startswith(\"ATOM\") or line.startswith(\"HETATM\")) and atom == \"allatom\":\n",
    "                if (\"HOH\" in line[17:20]) == False:\n",
    "                    returnList.append(line)\n",
    "            if field == \"ATOM\" and subfield == \"Res\" and (line.startswith(\"ATOM\") or line.startswith(\"HETATM\")) and atom == \"allatom\":\n",
    "                returnList.append(line)\n",
    "            i += 1\n",
    "        return returnList\n",
    "\n",
    "    @classmethod\n",
    "    def getBondedLines(cls, PDBFile, atom, bondedAtom):\n",
    "        \"\"\" generated source for method getBondedLines \"\"\"\n",
    "        returnList = []\n",
    "        carbonList = []\n",
    "        oxygenList = []\n",
    "        fileList = []\n",
    "        line = \"\"\n",
    "        i = 0\n",
    "        if 0 == len(atom) or len(atom) > 1 or 0 == len(bondedAtom) or len(bondedAtom) > 1:\n",
    "            print(\"error! in getBondedLines\")\n",
    "        atom = atom.upper()\n",
    "        bondedAtom = bondedAtom.upper()\n",
    "        temp = \"\"\n",
    "        fileList = FileOperation.getEntriesAsList(PDBFile)\n",
    "        while i < len(fileList):\n",
    "            line = str(fileList[i])\n",
    "            if (\"ATOM\" in line[0:4]) and (bondedAtom in line[13]):\n",
    "                carbonList.append(line)\n",
    "                if temp == \"\" and (len(oxygenList)==0) == False:\n",
    "                    k = 0\n",
    "                    while k < len(oxygenList):\n",
    "                        returnList.append(str(oxygenList[k]))\n",
    "                        k += 1\n",
    "                # print(oxygenList)\n",
    "                # oxygenList = []\n",
    "                temp = line[13:14]\n",
    "            if (\"ATOM\" in line[0:4]) and (atom in line[13]):\n",
    "                oxygenList.append(line)\n",
    "                if temp == \"C\" and ((len(carbonList)==0) == False):\n",
    "                    k = 0\n",
    "                    while k < len(carbonList):\n",
    "                        returnList.append(str(carbonList[k]))\n",
    "                        k += 1\n",
    "                # print(carbonList)\n",
    "                # carbonList = []\n",
    "                temp = line[13:14]\n",
    "            if ((\"TER\" in line[0:4]) or (\"HETATM\" in line[0:6]) and (0 != len(temp))):\n",
    "                k = 0\n",
    "                while k < len(oxygenList):\n",
    "                    returnList.append(str(oxygenList[k]))\n",
    "                    k += 1\n",
    "                # print(oxygenList)\n",
    "                # oxygenList = []\n",
    "                temp = \"\"\n",
    "            i += 1\n",
    "        return returnList"
   ]
  },
  {
   "cell_type": "code",
   "execution_count": null,
   "metadata": {},
   "outputs": [],
   "source": [
    "def runPrediction(filenamearg, metal, PDBID, resultAtoms):\n",
    "    \"\"\" generated source for method getMetal \"\"\"\n",
    "    fileList = []\n",
    "    resultList = []\n",
    "    allAtom = []\n",
    "    allAtomNoWater = []\n",
    "    currDirectory = os.getcwd()\n",
    "    fileList = FileOperation.getEntriesAsList(filenamearg)\n",
    "    #  a list of PDBIDs   \n",
    "    # print(args);\n",
    "    fileName = currDirectory + \"/inputdata/\" + PDBID + \".pdb\"\n",
    "    caList = ParsePDB.getLines(fileName, \"HETATM\", metal, metal)\n",
    "    # print(\"This is the caList\", caList)\n",
    "    allAtom = ParsePDB.getLines(fileName, \"ATOM\", \"Res\", \"allatom\")\n",
    "    pdb_site_list = allAtom + resultAtoms\n",
    "    FileOperation.saveResults(pdb_site_list, currDirectory + \"/predictionResults/\" + PDBID + \"_site.pdb\", \"w\")\n",
    "    print(\"File: \" + currDirectory + \"/predictionResults/\" + PDBID + \"_site.pdb\" + \" just written\")\n",
    "    resultList = []\n"
   ]
  },
  {
   "cell_type": "code",
   "execution_count": null,
   "metadata": {},
   "outputs": [],
   "source": [
    "from Bio.PDB import Entity\n",
    "\n",
    "def center_of_mass(entity, geometric=False):\n",
    "    \"\"\"\n",
    "    Returns gravitic [default] or geometric center of mass of an Entity.\n",
    "    Geometric assumes all masses are equal (geometric=True)\n",
    "    \"\"\"\n",
    "    \n",
    "    # Structure, Model, Chain, Residue\n",
    "    if isinstance(entity, Entity.Entity):\n",
    "        atom_list = entity.get_atoms()\n",
    "    # List of Atoms\n",
    "    elif hasattr(entity, '__iter__') and [x for x in entity if x.level == 'A']:\n",
    "        atom_list = entity\n",
    "    else: # Some other weirdo object\n",
    "        raise ValueError(\"Center of Mass can only be calculated from the following objects:\\n\"\n",
    "                            \"Structure, Model, Chain, Residue, list of Atoms.\")\n",
    "    \n",
    "    masses = []\n",
    "    positions = [ [], [], [] ] # [ [X1, X2, ..] , [Y1, Y2, ...] , [Z1, Z2, ...] ]\n",
    "    \n",
    "    for atom in atom_list:\n",
    "        masses.append(atom.mass)\n",
    "        \n",
    "        for i, coord in enumerate(atom.coord.tolist()):\n",
    "            positions[i].append(coord)\n",
    "\n",
    "    # If there is a single atom with undefined mass complain loudly.\n",
    "    if 'ukn' in set(masses) and not geometric:\n",
    "        raise ValueError(\"Some Atoms don't have an element assigned.\\n\"\n",
    "                         \"Try adding them manually or calculate the geometrical center of mass instead.\")\n",
    "    \n",
    "    if geometric:\n",
    "        return [sum(coord_list)/len(masses) for coord_list in positions]\n",
    "    else:       \n",
    "        w_pos = [ [], [], [] ]\n",
    "        for atom_index, atom_mass in enumerate(masses):\n",
    "            w_pos[0].append(positions[0][atom_index]*atom_mass)\n",
    "            w_pos[1].append(positions[1][atom_index]*atom_mass)\n",
    "            w_pos[2].append(positions[2][atom_index]*atom_mass)\n",
    "\n",
    "        return [sum(coord_list)/sum(masses) for coord_list in w_pos]"
   ]
  },
  {
   "cell_type": "code",
   "execution_count": null,
   "metadata": {},
   "outputs": [],
   "source": [
    "# def get_Metal():\n",
    "#     meList = ParsePDB.getLines(fileName, \"HETATM\", metal, metal)"
   ]
  },
  {
   "cell_type": "markdown",
   "metadata": {},
   "source": [
    "## Experimental"
   ]
  },
  {
   "cell_type": "code",
   "execution_count": null,
   "metadata": {},
   "outputs": [],
   "source": [
    "PDBID = '3cln'\n",
    "metal = 'CA'"
   ]
  },
  {
   "cell_type": "code",
   "execution_count": null,
   "metadata": {},
   "outputs": [],
   "source": [
    "def setup(arg):\n",
    "    pdb_id = arg\n",
    "    commands = 'mkdir -p ./inputdata; mkdir -p ./predictionResults; cd inputdata; wget https://files.rcsb.org/download/'+ pdb_id + '.pdb; echo \"'+ pdb_id + '\" >> list.txt; cat list.txt; cd .. echo \"Created all needed folders\";'\n",
    "    p = subprocess.Popen(commands, shell=True, stdout=subprocess.PIPE)\n",
    "    p.wait()\n",
    "  # print(str(p.communicate()[0], 'utf-8'))\n",
    "\n",
    "setup(PDBID)"
   ]
  },
  {
   "cell_type": "code",
   "execution_count": null,
   "metadata": {},
   "outputs": [],
   "source": [
    "fileName = './inputdata/'+ PDBID + '.pdb'\n",
    "caListtest = ParsePDB.getLines(fileName, \"HETATM\", metal, metal)\n",
    "caListtest"
   ]
  },
  {
   "cell_type": "code",
   "execution_count": null,
   "metadata": {},
   "outputs": [],
   "source": [
    "import re\n",
    "from numpy import array\n",
    "\n",
    "def vecCaList(caListtest):\n",
    "    fList = []\n",
    "    for caitem in caListtest:\n",
    "        txt=caitem\n",
    "        re1='.*?'\t# Non-greedy match on filler\n",
    "        re2='([+-]?\\\\d*\\\\.\\\\d+)(?![-+0-9\\\\.])'\t# Float 1\n",
    "        re3='.*?'\t# Non-greedy match on filler\n",
    "        re4='([+-]?\\\\d*\\\\.\\\\d+)(?![-+0-9\\\\.])'\t# Float 2\n",
    "        re5='.*?'\t# Non-greedy match on filler\n",
    "        re6='([+-]?\\\\d*\\\\.\\\\d+)(?![-+0-9\\\\.])'\t# Float 3\n",
    "        rg = re.compile(re1+re2+re3+re4+re5+re6,re.IGNORECASE|re.DOTALL)\n",
    "        m = rg.search(txt)\n",
    "        if m:\n",
    "            float1=m.group(1)\n",
    "            float2=m.group(2)\n",
    "            float3=m.group(3)\n",
    "            print (\"(\"+float1+\")\"+\"(\"+float2+\")\"+\"(\"+float3+\")\"+\"\\n\")\n",
    "        plhld = [float(float1), float(float2), float(float3)]\n",
    "        ac = array(plhld)\n",
    "        fList.append(ac)\n",
    "    return fList"
   ]
  },
  {
   "cell_type": "code",
   "execution_count": null,
   "metadata": {},
   "outputs": [],
   "source": [
    "caList = vecCaList(caListtest)"
   ]
  },
  {
   "cell_type": "code",
   "execution_count": null,
   "metadata": {},
   "outputs": [],
   "source": [
    "caList"
   ]
  },
  {
   "cell_type": "code",
   "execution_count": null,
   "metadata": {},
   "outputs": [],
   "source": [
    "molecule = Pmolecule('./inputdata/'+ PDBID + '.pdb')\n",
    "view = nv.show_biopython(molecule.get_pdbmodel())\n",
    "view.clear_representations()\n",
    "#view as ball and stick (atom and bond)\n",
    "view.add_ball_and_stick()\n",
    "# view.add_licorice('ALA, GLU')"
   ]
  },
  {
   "cell_type": "code",
   "execution_count": null,
   "metadata": {},
   "outputs": [],
   "source": [
    "view"
   ]
  },
  {
   "cell_type": "code",
   "execution_count": null,
   "metadata": {
    "scrolled": true
   },
   "outputs": [],
   "source": [
    "# Create Biograph, uses Biopython for stucture and networkx for drawing the graphs\n",
    "Graph = molecule.get_network()\n",
    "nx.draw(Graph, with_labels = True) #, with_labels = True"
   ]
  },
  {
   "cell_type": "code",
   "execution_count": null,
   "metadata": {},
   "outputs": [],
   "source": [
    "nx.draw_circular(Graph)"
   ]
  },
  {
   "cell_type": "code",
   "execution_count": null,
   "metadata": {},
   "outputs": [],
   "source": [
    "vis_net = Network(height=\"700px\", width=\"100%\", notebook=True)\n",
    "\n",
    "# set the physics layout of the network\n",
    "vis_net.barnes_hut()\n",
    "vis_net.from_nx(Graph)\n",
    "vis_net.show('ex.html')"
   ]
  },
  {
   "cell_type": "code",
   "execution_count": null,
   "metadata": {},
   "outputs": [],
   "source": [
    "model = molecule.get_pdbmodel()"
   ]
  },
  {
   "cell_type": "code",
   "execution_count": null,
   "metadata": {},
   "outputs": [],
   "source": [
    "adjmatrix = residue_adjacency_CO_test(model, cutoff=4, weight=True)"
   ]
  },
  {
   "cell_type": "code",
   "execution_count": null,
   "metadata": {
    "scrolled": true
   },
   "outputs": [],
   "source": [
    "# adjmatrix"
   ]
  },
  {
   "cell_type": "code",
   "execution_count": null,
   "metadata": {},
   "outputs": [],
   "source": [
    "def get_res_cliqs(G, M):\n",
    "    # Find max cliques\n",
    "    renamed_cliques=[]\n",
    "    cliques=[clique for clique in nx.find_cliques(G) if len(clique)>= 4]\n",
    "    for cliq in cliques:\n",
    "        c=[]\n",
    "        for cli in cliq:\n",
    "            res = M[str(cli.split(' ')[0])][int(cli.split(' ')[1])]\n",
    "            c.append(res)\n",
    "        renamed_cliques.append(c)\n",
    "    print('Number of cliques found: ',len(cliques))\n",
    "    return(renamed_cliques)"
   ]
  },
  {
   "cell_type": "code",
   "execution_count": null,
   "metadata": {},
   "outputs": [],
   "source": [
    "def disResi(G,adj_m, model, cliqueCallback):\n",
    "    centered_cliq=None\n",
    "    ress=[res for res in cliqueCallback(G, model)] # add conditions later\n",
    "    for cliq in ress:\n",
    "        centered_cliq = ress\n",
    "    return centered_cliq\n",
    "\n",
    "#filter each residue with center ca2"
   ]
  },
  {
   "cell_type": "code",
   "execution_count": null,
   "metadata": {},
   "outputs": [],
   "source": [
    "reslist = disResi(Graph, adjmatrix, model, get_res_cliqs)"
   ]
  },
  {
   "cell_type": "code",
   "execution_count": null,
   "metadata": {
    "scrolled": true
   },
   "outputs": [],
   "source": [
    "reslist"
   ]
  },
  {
   "cell_type": "markdown",
   "metadata": {},
   "source": [
    "## Maximal Cliques, Carbon Clusters"
   ]
  },
  {
   "cell_type": "code",
   "execution_count": null,
   "metadata": {},
   "outputs": [],
   "source": [
    "def centreCa2(resatoms):\n",
    "    ans = []\n",
    "    for i, (atomlist) in enumerate(resatoms):\n",
    "        if not atomlist:\n",
    "            continue\n",
    "        else:\n",
    "            ans.append(center_of_mass(atomlist))\n",
    "    return ans"
   ]
  },
  {
   "cell_type": "code",
   "execution_count": null,
   "metadata": {},
   "outputs": [],
   "source": [
    "#Given a group of residues, for each atom in the residue return the one with the min(dist) from the any of the HETAM CA\n",
    "def TestScenerio7(reslist, caList, model):\n",
    "    # First get oxygen in each residue\n",
    "    cutoff = 3.5\n",
    "    resoxygrouped = []\n",
    "    for resli in reslist:\n",
    "        grup = []\n",
    "        for res in resli:\n",
    "            atom_list = res.get_list()\n",
    "            resatoms = [atom for atom in atom_list if 'O' in atom.name]\n",
    "            print(resatoms)\n",
    "            for acvec in caList:\n",
    "                alpha_carbon = acvec\n",
    "                distances = []\n",
    "                resoxygroup = []\n",
    "                for i,(atom) in enumerate(resatoms):\n",
    "                    #subtract the two position vectors\n",
    "                    print(atom.get_coord())\n",
    "                    diff_vector = alpha_carbon - atom.get_coord()\n",
    "                    #to get a positive value we square the difference vector\n",
    "                    #we then take the square root to go back to the original scale\n",
    "                    distances.append(np.sqrt(np.sum(diff_vector * diff_vector)))\n",
    "                    dist = np.sqrt(np.sum(diff_vector * diff_vector))\n",
    "                    print(i)\n",
    "                    print('The distances are: ',distances)\n",
    "                    #we get the nearest atom using min(distances) or dist and see if it falls inside\n",
    "                    #the cutoff\n",
    "                    if dist < cutoff:\n",
    "                        grup.append(atom)\n",
    "                    print(res)\n",
    "        resoxygrouped.append(grup)\n",
    "    return resoxygrouped\n",
    "#finding Ca binding site from remaining max clique residue\n"
   ]
  },
  {
   "cell_type": "code",
   "execution_count": null,
   "metadata": {
    "scrolled": true
   },
   "outputs": [],
   "source": [
    "testans = TestScenerio7(reslist, caList, model)"
   ]
  },
  {
   "cell_type": "code",
   "execution_count": null,
   "metadata": {
    "scrolled": true
   },
   "outputs": [],
   "source": [
    "print('The length is: ', len(testans))\n",
    "testans"
   ]
  },
  {
   "cell_type": "code",
   "execution_count": null,
   "metadata": {
    "scrolled": true
   },
   "outputs": [],
   "source": [
    "# Center of mass coordinates\n",
    "finalanstest = centreCa2(testans)\n",
    "finalanstest"
   ]
  },
  {
   "cell_type": "code",
   "execution_count": null,
   "metadata": {},
   "outputs": [],
   "source": [
    "def writeresultAtoms(cacmcoord):\n",
    "    ans = []\n",
    "    for coord in cacmcoord:\n",
    "        print(coord)\n",
    "        cacoord = \"HETATM      CA    CA\" + \"           \" + str(coord[0])[:-12] +\"  \" + str(coord[1])[:-12] + \"  \" + str(coord[2])[:-12]\n",
    "        print(cacoord)\n",
    "        ans.append(cacoord)\n",
    "    return ans"
   ]
  },
  {
   "cell_type": "code",
   "execution_count": null,
   "metadata": {
    "scrolled": false
   },
   "outputs": [],
   "source": [
    "filenamearg = './inputdata/'+ PDBID + '.pdb'\n",
    "metal ='CA'\n",
    "resultAtoms = writeresultAtoms(finalanstest)\n",
    "runPrediction(filenamearg, metal, PDBID, resultAtoms)"
   ]
  },
  {
   "cell_type": "code",
   "execution_count": null,
   "metadata": {},
   "outputs": [],
   "source": [
    "# def envclean():\n",
    "#     p = subprocess.Popen('rm -r ./inputdata; rm -r ./outputdata; rm -r ./predictionResults; \"Del all needed folders\";', shell=True, stdout=subprocess.PIPE)\n",
    "#     p.wait()\n",
    "#   # print(str(p.communicate()[0], 'utf-8'))\n",
    "\n",
    "# envclean()"
   ]
  }
 ],
 "metadata": {
  "kernelspec": {
   "display_name": "Python 3",
   "language": "python",
   "name": "python3"
  },
  "language_info": {
   "codemirror_mode": {
    "name": "ipython",
    "version": 3
   },
   "file_extension": ".py",
   "mimetype": "text/x-python",
   "name": "python",
   "nbconvert_exporter": "python",
   "pygments_lexer": "ipython3",
   "version": "3.7.3"
  }
 },
 "nbformat": 4,
 "nbformat_minor": 2
}
